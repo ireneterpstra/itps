{
 "cells": [
  {
   "cell_type": "code",
   "execution_count": null,
   "metadata": {},
   "outputs": [],
   "source": [
    "import matplotlib.pyplot as plt\n",
    "import pickle as pl\n",
    "import numpy as np\n",
    "\n",
    "# Load figure from disk and display\n",
    "fig_handle = pl.load(open('sinus.pickle','rb'))\n",
    "fig_handle.show()"
   ]
  }
 ],
 "metadata": {
  "language_info": {
   "name": "python"
  }
 },
 "nbformat": 4,
 "nbformat_minor": 2
}
